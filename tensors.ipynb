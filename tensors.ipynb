{
  "cells": [
    {
      "cell_type": "markdown",
      "metadata": {
        "id": "e0Jk5q8tSExz"
      },
      "source": [
        "# TensorFlow\n",
        "\n",
        "TensorFlow is an open-source machine learning framework developed by Google that enables the creation, training, and deployment of machine learning models across various platforms. It supports a wide range of tasks, including deep learning, neural networks, and large-scale numerical computations."
      ]
    },
    {
      "cell_type": "code",
      "execution_count": 1,
      "metadata": {
        "id": "FLCz4k2wSEx0"
      },
      "outputs": [],
      "source": [
        "import tensorflow as tf"
      ]
    }
  ],
  "metadata": {
    "kernelspec": {
      "display_name": "Python 3",
      "language": "python",
      "name": "python3"
    },
    "language_info": {
      "name": "python",
      "version": "3.11.6"
    },
    "colab": {
      "provenance": []
    }
  },
  "nbformat": 4,
  "nbformat_minor": 0
}